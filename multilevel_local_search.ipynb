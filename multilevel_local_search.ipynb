{
 "cells": [
  {
   "cell_type": "markdown",
   "id": "e9e13cd1-4d0d-4e68-afd3-55d0aabd3c3f",
   "metadata": {},
   "source": [
    "# Multilevel Local Search for Traveling Salesman Problem with 20 cities"
   ]
  },
  {
   "cell_type": "code",
   "execution_count": 1,
   "id": "cf2af023-1e2c-4c10-b2e8-a2e096284151",
   "metadata": {},
   "outputs": [],
   "source": [
    "import numpy as np"
   ]
  },
  {
   "cell_type": "code",
   "execution_count": 2,
   "id": "5b1e4224-15b0-4772-b033-56b89cf4035c",
   "metadata": {},
   "outputs": [
    {
     "name": "stdout",
     "output_type": "stream",
     "text": [
      "Cities:\n",
      "[ 1  2  3  4  5  6  7  8  9 10 11 12 13 14 15 16 17 18 19 20]\n",
      "Cities in random order:\n",
      "[ 1 11  3  2  5  6 15 16  4 17  8 12 13 14 18 19 10  9  7 20]\n",
      "\n",
      "Level 1 Clusters (10 clusters):\n",
      "[(1, 11), (3, 2), (5, 6), (15, 16), (4, 17), (8, 12), (13, 14), (18, 19), (10, 9), (7, 20)]\n",
      "\n",
      "Level 1 Clusters (shuffled):\n",
      "[(15, 16), (13, 14), (5, 6), (3, 2), (18, 19), (10, 9), (4, 17), (1, 11), (7, 20), (8, 12)]\n",
      "\n",
      "Level 2 Clusters (5 clusters):\n",
      "[((15, 16), (13, 14)), ((5, 6), (3, 2)), ((18, 19), (10, 9)), ((4, 17), (1, 11)), ((7, 20), (8, 12))]\n",
      "\n",
      "Level 2 Clusters (shuffled):\n",
      "[((15, 16), (13, 14)), ((18, 19), (10, 9)), ((7, 20), (8, 12)), ((4, 17), (1, 11)), ((5, 6), (3, 2))]\n"
     ]
    }
   ],
   "source": [
    "np.random.seed(23)\n",
    "\n",
    "# Generate 20 cities\n",
    "city_list = np.array([i for i in range(1, 21)])\n",
    "cities = city_list.copy()\n",
    "\n",
    "# Shuffle cities\n",
    "np.random.shuffle(cities)\n",
    "\n",
    "print(\"Cities:\")\n",
    "print(city_list)\n",
    "\n",
    "print(\"Cities in random order:\")\n",
    "print(cities)\n",
    "\n",
    "\n",
    "# Level 1: Creating 10 clusters\n",
    "level_1_clusters = [(cities[i], cities[i + 1]) for i in range(0, len(cities), 2)]\n",
    "\n",
    "print(\"\\nLevel 1 Clusters (10 clusters):\")\n",
    "print(level_1_clusters)\n",
    "\n",
    "# Shuffle clusters\n",
    "np.random.shuffle(level_1_clusters)\n",
    "\n",
    "print(\"\\nLevel 1 Clusters (shuffled):\")\n",
    "print(level_1_clusters)\n",
    "\n",
    "# Level 2: Create 5 clusters out of the level 1 clusters\n",
    "level_2_clusters = [(level_1_clusters[i], level_1_clusters[i + 1]) for i in range(0, len(level_1_clusters), 2)]\n",
    "\n",
    "print(\"\\nLevel 2 Clusters (5 clusters):\")\n",
    "print(level_2_clusters)\n",
    "\n",
    "# Shuffle clusters\n",
    "np.random.shuffle(level_2_clusters)\n",
    "\n",
    "print(\"\\nLevel 2 Clusters (shuffled):\")\n",
    "print(level_2_clusters)"
   ]
  },
  {
   "cell_type": "markdown",
   "id": "34780d61-9bd4-4179-b395-35fe7733e9ce",
   "metadata": {},
   "source": [
    "### Creating the clusters\n",
    "\n",
    "The 20 cities will each be an element in a list. The cities are shuffled into a random order and pairs are created. These 10 pairs are shuffled and grouped into 5 clusters. The list is shuffled on final time."
   ]
  },
  {
   "cell_type": "code",
   "execution_count": 3,
   "id": "e3337c24-633d-4ea6-b993-388a44e45554",
   "metadata": {},
   "outputs": [
    {
     "name": "stdout",
     "output_type": "stream",
     "text": [
      "Distance matrix: \n",
      "[[0 4 1 2 2 1 4 4 3 4 4 1 3 3 2 3 3 1 2 4]\n",
      " [4 0 2 1 3 3 4 3 3 1 2 3 1 3 1 1 3 4 3 4]\n",
      " [1 2 0 3 2 4 4 3 2 1 4 3 4 4 3 4 2 2 3 1]\n",
      " [2 1 3 0 3 1 1 1 4 2 2 1 3 2 2 2 1 4 2 3]\n",
      " [2 3 2 3 0 2 3 3 1 2 1 3 2 4 2 1 4 4 3 1]\n",
      " [1 3 4 1 2 0 1 1 3 1 3 2 2 3 2 2 3 2 2 2]\n",
      " [4 4 4 1 3 1 0 4 4 3 2 3 4 3 1 4 1 1 4 2]\n",
      " [4 3 3 1 3 1 4 0 3 2 1 4 3 1 4 4 3 3 4 2]\n",
      " [3 3 2 4 1 3 4 3 0 1 3 3 4 2 3 4 3 2 2 2]\n",
      " [4 1 1 2 2 1 3 2 1 0 2 4 4 4 3 3 1 4 4 1]\n",
      " [4 2 4 2 1 3 2 1 3 2 0 2 3 3 2 3 1 1 2 3]\n",
      " [1 3 3 1 3 2 3 4 3 4 2 0 4 3 1 3 2 3 1 3]\n",
      " [3 1 4 3 2 2 4 3 4 4 3 4 0 1 1 1 1 2 1 1]\n",
      " [3 3 4 2 4 3 3 1 2 4 3 3 1 0 2 4 3 4 3 4]\n",
      " [2 1 3 2 2 2 1 4 3 3 2 1 1 2 0 1 2 2 2 1]\n",
      " [3 1 4 2 1 2 4 4 4 3 3 3 1 4 1 0 2 4 4 3]\n",
      " [3 3 2 1 4 3 1 3 3 1 1 2 1 3 2 2 0 1 3 4]\n",
      " [1 4 2 4 4 2 1 3 2 4 1 3 2 4 2 4 1 0 1 1]\n",
      " [2 3 3 2 3 2 4 4 2 4 2 1 1 3 2 4 3 1 0 3]\n",
      " [4 4 1 3 1 2 2 2 2 1 3 3 1 4 1 3 4 1 3 0]]\n"
     ]
    }
   ],
   "source": [
    "num_cities = len(cities)\n",
    "\n",
    "distance_matrix = np.random.randint(1, 5, size=(num_cities, num_cities))\n",
    "distance_matrix = np.triu(distance_matrix, 1) + np.triu(distance_matrix, 1).T\n",
    "\n",
    "np.fill_diagonal(distance_matrix, 0)\n",
    "\n",
    "print(\"Distance matrix: \")\n",
    "print(distance_matrix)"
   ]
  },
  {
   "cell_type": "markdown",
   "id": "b62b49cc-523f-49d0-b400-098fb03edd34",
   "metadata": {},
   "source": [
    "### Creating the distances between cities\n",
    "\n",
    "This matrix defines the distance between the different cities. This will be used when calculating the fitness of a solution."
   ]
  },
  {
   "cell_type": "code",
   "execution_count": 4,
   "id": "85ca52e0-063a-4c6b-95c7-763689e779ba",
   "metadata": {},
   "outputs": [],
   "source": [
    "def calculate_cost(clusters, matrix, level):\n",
    "    cities = []\n",
    "    if level == 2:\n",
    "        cities = flatten_from_level_2(clusters)\n",
    "    elif level == 1:\n",
    "        cities = combine_clusters(clusters)\n",
    "    else:\n",
    "        cities = clusters\n",
    "    cost = 0\n",
    "    for i in range(len(cities)):\n",
    "        current_city = cities[i]\n",
    "        if i == (len(cities)-1):\n",
    "            next_city = cities[0]\n",
    "        else:\n",
    "            next_city = cities[i + 1]\n",
    "        cost += matrix[current_city - 1, next_city - 1]\n",
    "    return cost\n",
    "    \n",
    "def combine_clusters(clusters):\n",
    "    return [city for pair in clusters for city in pair]\n",
    "\n",
    "def flatten_from_level_2(clusters):\n",
    "    level_1_flat = combine_clusters(clusters)\n",
    "    return [city for pair in level_1_flat for city in pair]\n",
    "\n",
    "def iterate(clusters, matrix, it, level):\n",
    "    best_solution = clusters.copy()\n",
    "    cc = calculate_cost(clusters, matrix, level)\n",
    "    print(f'Solution : {clusters}, Cost : {cc}.')\n",
    "    for i in range(it):\n",
    "        random_index_1, random_index_2 = np.random.choice(len(clusters), 2, replace=False)\n",
    "        print(f'The element with index {random_index_1} and the element with index {random_index_2} switch positions in the list (Using zero-based indexing)')\n",
    "        clusters[random_index_1], clusters[random_index_2] = clusters[random_index_2], clusters[random_index_1]\n",
    "        new_cost = calculate_cost(clusters, matrix, level)\n",
    "        if new_cost <= cc:\n",
    "            print(f'Solution : {clusters}, Cost : {new_cost}. The cost is equal to or better than the previous one. The new one will be considered the best solution')\n",
    "            cc = new_cost\n",
    "            best_solution = clusters.copy()\n",
    "        else:\n",
    "            print(f'Solution : {clusters}, Cost : {new_cost}. This solution is worse than the previous best solution. The previous one is still the best solution')\n",
    "            clusters[random_index_1], clusters[random_index_2] = clusters[random_index_2], clusters[random_index_1]\n",
    "    return best_solution, cc"
   ]
  },
  {
   "cell_type": "markdown",
   "id": "a9248641-6837-4da5-a0f3-82106a4ece07",
   "metadata": {},
   "source": [
    "### Functions\n",
    "\n",
    "These functions can be used to move between levels, calculate the cost of solutions and perform the local serach."
   ]
  },
  {
   "cell_type": "markdown",
   "id": "204110bf-08d4-43c8-9f64-16ee417a7983",
   "metadata": {},
   "source": [
    "### Finding a solution at level 2"
   ]
  },
  {
   "cell_type": "code",
   "execution_count": 5,
   "id": "8806dba4-9fed-4f94-8abf-590432ff13a7",
   "metadata": {},
   "outputs": [
    {
     "name": "stdout",
     "output_type": "stream",
     "text": [
      "Solution : [((15, 16), (13, 14)), ((18, 19), (10, 9)), ((7, 20), (8, 12)), ((4, 17), (1, 11)), ((5, 6), (3, 2))], Cost : 44.\n",
      "The element with index 4 and the element with index 0 switch positions in the list (Using zero-based indexing)\n",
      "Solution : [((5, 6), (3, 2)), ((18, 19), (10, 9)), ((7, 20), (8, 12)), ((4, 17), (1, 11)), ((15, 16), (13, 14))], Cost : 48. This solution is worse than the previous best solution. The previous one is still the best solution\n",
      "The element with index 3 and the element with index 1 switch positions in the list (Using zero-based indexing)\n",
      "Solution : [((15, 16), (13, 14)), ((4, 17), (1, 11)), ((7, 20), (8, 12)), ((18, 19), (10, 9)), ((5, 6), (3, 2))], Cost : 42. The cost is equal to or better than the previous one. The new one will be considered the best solution\n",
      "Best cost : 42 \n",
      "Best solution : [((15, 16), (13, 14)), ((4, 17), (1, 11)), ((7, 20), (8, 12)), ((18, 19), (10, 9)), ((5, 6), (3, 2))]\n"
     ]
    }
   ],
   "source": [
    "level_2_iterations = 2\n",
    "bestsol_level_2, cc_level_2 = iterate(level_2_clusters, distance_matrix, level_2_iterations, 2)\n",
    "print(f'Best cost : {cc_level_2} \\nBest solution : {bestsol_level_2}')"
   ]
  },
  {
   "cell_type": "markdown",
   "id": "3f5393cb-0486-437f-b801-e5cf6902bed5",
   "metadata": {},
   "source": [
    "### Going to level 1"
   ]
  },
  {
   "cell_type": "code",
   "execution_count": 6,
   "id": "6aff95d0-2e9a-4a3b-a8c1-390a6b93ebe1",
   "metadata": {},
   "outputs": [],
   "source": [
    "level_1 = combine_clusters(bestsol_level_2)"
   ]
  },
  {
   "cell_type": "code",
   "execution_count": 7,
   "id": "267310f7-b207-4001-b3fc-36f5cfd6f3fa",
   "metadata": {},
   "outputs": [
    {
     "name": "stdout",
     "output_type": "stream",
     "text": [
      "Solution : [(15, 16), (13, 14), (4, 17), (1, 11), (7, 20), (8, 12), (18, 19), (10, 9), (5, 6), (3, 2)], Cost : 42.\n",
      "The element with index 7 and the element with index 8 switch positions in the list (Using zero-based indexing)\n",
      "Solution : [(15, 16), (13, 14), (4, 17), (1, 11), (7, 20), (8, 12), (18, 19), (5, 6), (10, 9), (3, 2)], Cost : 39. The cost is equal to or better than the previous one. The new one will be considered the best solution\n",
      "The element with index 8 and the element with index 2 switch positions in the list (Using zero-based indexing)\n",
      "Solution : [(15, 16), (13, 14), (10, 9), (1, 11), (7, 20), (8, 12), (18, 19), (5, 6), (4, 17), (3, 2)], Cost : 41. This solution is worse than the previous best solution. The previous one is still the best solution\n",
      "Best cost : 39 \n",
      "Best solution : [(15, 16), (13, 14), (4, 17), (1, 11), (7, 20), (8, 12), (18, 19), (5, 6), (10, 9), (3, 2)]\n"
     ]
    }
   ],
   "source": [
    "level_1_iterations = 2\n",
    "bestsol_level_1, cc_level_1 = iterate(level_1, distance_matrix, level_1_iterations, 1)\n",
    "print(f'Best cost : {cc_level_1} \\nBest solution : {bestsol_level_1}')"
   ]
  },
  {
   "cell_type": "markdown",
   "id": "9e709cd4-2c0a-4d72-b8ca-c027191d8521",
   "metadata": {},
   "source": [
    "### Going back to the original level"
   ]
  },
  {
   "cell_type": "code",
   "execution_count": 8,
   "id": "2a58b429-0dca-4e4c-8af8-ebad016aa607",
   "metadata": {},
   "outputs": [],
   "source": [
    "level_0 = combine_clusters(bestsol_level_1)"
   ]
  },
  {
   "cell_type": "code",
   "execution_count": 9,
   "id": "e6e2a5d9-a5cf-464f-bde6-7dee4d8d5222",
   "metadata": {},
   "outputs": [
    {
     "name": "stdout",
     "output_type": "stream",
     "text": [
      "Solution : [15, 16, 13, 14, 4, 17, 1, 11, 7, 20, 8, 12, 18, 19, 5, 6, 10, 9, 3, 2], Cost : 39.\n",
      "The element with index 9 and the element with index 19 switch positions in the list (Using zero-based indexing)\n",
      "Solution : [15, 16, 13, 14, 4, 17, 1, 11, 7, 2, 8, 12, 18, 19, 5, 6, 10, 9, 3, 20], Cost : 41. This solution is worse than the previous best solution. The previous one is still the best solution\n",
      "The element with index 3 and the element with index 18 switch positions in the list (Using zero-based indexing)\n",
      "Solution : [15, 16, 13, 3, 4, 17, 1, 11, 7, 20, 8, 12, 18, 19, 5, 6, 10, 9, 14, 2], Cost : 44. This solution is worse than the previous best solution. The previous one is still the best solution\n",
      "Best cost : 39 \n",
      "Best solution : [15, 16, 13, 14, 4, 17, 1, 11, 7, 20, 8, 12, 18, 19, 5, 6, 10, 9, 3, 2]\n"
     ]
    }
   ],
   "source": [
    "level_0_iterations = 2\n",
    "bestsol_level_0, cc_level_0 = iterate(level_0, distance_matrix, level_0_iterations, 0)\n",
    "print(f'Best cost : {cc_level_0} \\nBest solution : {bestsol_level_0}')"
   ]
  },
  {
   "cell_type": "markdown",
   "id": "6ee9c4f0-ed9b-4059-af2e-0378dd6f829d",
   "metadata": {},
   "source": [
    "### Conclusion\n",
    "\n",
    "Using two level with two iteration of local search at each level the best solution we get is (15, 16, 13, 14, 4, 17, 1, 11, 7, 20, 8, 12, 18, 19, 5, 6, 10, 9, 3, 2) with a total distance of 39 (including the distance back to the first city)."
   ]
  }
 ],
 "metadata": {
  "kernelspec": {
   "display_name": "Python 3 (ipykernel)",
   "language": "python",
   "name": "python3"
  },
  "language_info": {
   "codemirror_mode": {
    "name": "ipython",
    "version": 3
   },
   "file_extension": ".py",
   "mimetype": "text/x-python",
   "name": "python",
   "nbconvert_exporter": "python",
   "pygments_lexer": "ipython3",
   "version": "3.11.6"
  }
 },
 "nbformat": 4,
 "nbformat_minor": 5
}
